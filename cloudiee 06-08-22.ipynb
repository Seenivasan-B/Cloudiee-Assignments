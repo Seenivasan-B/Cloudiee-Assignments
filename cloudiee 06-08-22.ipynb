{
 "cells": [
  {
   "cell_type": "code",
   "execution_count": 4,
   "id": "4df35dd4",
   "metadata": {},
   "outputs": [],
   "source": [
    "import array as arr"
   ]
  },
  {
   "cell_type": "code",
   "execution_count": 30,
   "id": "0a4acd6c",
   "metadata": {},
   "outputs": [],
   "source": [
    "b = arr.array('b',[2,3,4,5,])"
   ]
  },
  {
   "cell_type": "code",
   "execution_count": 8,
   "id": "02c3ffb5",
   "metadata": {},
   "outputs": [
    {
     "data": {
      "text/plain": [
       "array('b', [2, 3, 4, 5])"
      ]
     },
     "execution_count": 8,
     "metadata": {},
     "output_type": "execute_result"
    }
   ],
   "source": [
    "b"
   ]
  },
  {
   "cell_type": "code",
   "execution_count": 11,
   "id": "f4a1bbd3",
   "metadata": {},
   "outputs": [],
   "source": [
    "a = [[1,2],[3,4]]\n",
    "b = [[1,2],[3,4]]"
   ]
  },
  {
   "cell_type": "code",
   "execution_count": 12,
   "id": "67a0b973",
   "metadata": {},
   "outputs": [
    {
     "data": {
      "text/plain": [
       "[[1, 2], [3, 4]]"
      ]
     },
     "execution_count": 12,
     "metadata": {},
     "output_type": "execute_result"
    }
   ],
   "source": [
    "a"
   ]
  },
  {
   "cell_type": "code",
   "execution_count": 27,
   "id": "3b7535ac",
   "metadata": {},
   "outputs": [],
   "source": [
    "c = [[(a[0][0]*b[0][0]),(a[0][1]*b[0][1])],[(a[1][0]*b[1][0]),(a[1][1]*b[1][1])]]"
   ]
  },
  {
   "cell_type": "code",
   "execution_count": 28,
   "id": "5093754b",
   "metadata": {},
   "outputs": [
    {
     "data": {
      "text/plain": [
       "[[1, 4], [9, 16]]"
      ]
     },
     "execution_count": 28,
     "metadata": {},
     "output_type": "execute_result"
    }
   ],
   "source": [
    "c"
   ]
  },
  {
   "cell_type": "code",
   "execution_count": 29,
   "id": "e49b6e0f",
   "metadata": {},
   "outputs": [
    {
     "data": {
      "text/plain": [
       "[[1, 4], [9, 16]]"
      ]
     },
     "execution_count": 29,
     "metadata": {},
     "output_type": "execute_result"
    }
   ],
   "source": [
    "a = [[1,2],[3,4]]\n",
    "b = [[1,2],[3,4]]\n",
    "c = [[(a[0][0]*b[0][0]),(a[0][1]*b[0][1])],[(a[1][0]*b[1][0]),(a[1][1]*b[1][1])]]\n",
    "c"
   ]
  },
  {
   "cell_type": "code",
   "execution_count": 10,
   "id": "b8042186",
   "metadata": {},
   "outputs": [
    {
     "name": "stdout",
     "output_type": "stream",
     "text": [
      "[[7, 10], [15, 22]]\n"
     ]
    }
   ],
   "source": [
    "A = [[1,2],[3,4]]\n",
    "B = [[1,2],[3,4]]\n",
    "result = []\n",
    "for i in range(len(A)):\n",
    "\n",
    "    row = [] \n",
    "    for j in range(len(B[0])):\n",
    "        \n",
    "        product = 0 \n",
    "        for v in range(len(A[i])):\n",
    "            product += A[i][v] * B[v][j]\n",
    "        row.append(product)\n",
    "        \n",
    "    result.append(row)\n",
    "\n",
    "\n",
    "print(result)"
   ]
  },
  {
   "cell_type": "code",
   "execution_count": 9,
   "id": "6f1a5e26",
   "metadata": {},
   "outputs": [
    {
     "data": {
      "text/plain": [
       "3"
      ]
     },
     "execution_count": 9,
     "metadata": {},
     "output_type": "execute_result"
    }
   ],
   "source": []
  },
  {
   "cell_type": "code",
   "execution_count": null,
   "id": "cacb5ddb",
   "metadata": {},
   "outputs": [],
   "source": []
  }
 ],
 "metadata": {
  "kernelspec": {
   "display_name": "Python 3 (ipykernel)",
   "language": "python",
   "name": "python3"
  },
  "language_info": {
   "codemirror_mode": {
    "name": "ipython",
    "version": 3
   },
   "file_extension": ".py",
   "mimetype": "text/x-python",
   "name": "python",
   "nbconvert_exporter": "python",
   "pygments_lexer": "ipython3",
   "version": "3.9.12"
  }
 },
 "nbformat": 4,
 "nbformat_minor": 5
}
