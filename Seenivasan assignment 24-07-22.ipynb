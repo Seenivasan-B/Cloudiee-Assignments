{
 "cells": [
  {
   "cell_type": "markdown",
   "id": "e8769d01",
   "metadata": {},
   "source": [
    "# #Assignment 1"
   ]
  },
  {
   "cell_type": "markdown",
   "id": "bda53786",
   "metadata": {},
   "source": [
    "1. Write a python program to print first 100 natural numbers."
   ]
  },
  {
   "cell_type": "code",
   "execution_count": 24,
   "id": "8e37e4e9",
   "metadata": {
    "collapsed": true
   },
   "outputs": [
    {
     "name": "stdout",
     "output_type": "stream",
     "text": [
      "1\n",
      "2\n",
      "3\n",
      "4\n",
      "5\n",
      "6\n",
      "7\n",
      "8\n",
      "9\n",
      "10\n",
      "11\n",
      "12\n",
      "13\n",
      "14\n",
      "15\n",
      "16\n",
      "17\n",
      "18\n",
      "19\n",
      "20\n",
      "21\n",
      "22\n",
      "23\n",
      "24\n",
      "25\n",
      "26\n",
      "27\n",
      "28\n",
      "29\n",
      "30\n",
      "31\n",
      "32\n",
      "33\n",
      "34\n",
      "35\n",
      "36\n",
      "37\n",
      "38\n",
      "39\n",
      "40\n",
      "41\n",
      "42\n",
      "43\n",
      "44\n",
      "45\n",
      "46\n",
      "47\n",
      "48\n",
      "49\n",
      "50\n",
      "51\n",
      "52\n",
      "53\n",
      "54\n",
      "55\n",
      "56\n",
      "57\n",
      "58\n",
      "59\n",
      "60\n",
      "61\n",
      "62\n",
      "63\n",
      "64\n",
      "65\n",
      "66\n",
      "67\n",
      "68\n",
      "69\n",
      "70\n",
      "71\n",
      "72\n",
      "73\n",
      "74\n",
      "75\n",
      "76\n",
      "77\n",
      "78\n",
      "79\n",
      "80\n",
      "81\n",
      "82\n",
      "83\n",
      "84\n",
      "85\n",
      "86\n",
      "87\n",
      "88\n",
      "89\n",
      "90\n",
      "91\n",
      "92\n",
      "93\n",
      "94\n",
      "95\n",
      "96\n",
      "97\n",
      "98\n",
      "99\n",
      "100\n"
     ]
    }
   ],
   "source": [
    "for i in range(1,101):\n",
    "    print(i)\n",
    "    "
   ]
  },
  {
   "cell_type": "markdown",
   "id": "6e6ed4ff",
   "metadata": {},
   "source": [
    "2. Print odd and even numbers between 100-150"
   ]
  },
  {
   "cell_type": "code",
   "execution_count": 25,
   "id": "2cec233b",
   "metadata": {
    "collapsed": true
   },
   "outputs": [
    {
     "name": "stdout",
     "output_type": "stream",
     "text": [
      "101\n",
      "103\n",
      "105\n",
      "107\n",
      "109\n",
      "111\n",
      "113\n",
      "115\n",
      "117\n",
      "119\n",
      "121\n",
      "123\n",
      "125\n",
      "127\n",
      "129\n",
      "131\n",
      "133\n",
      "135\n",
      "137\n",
      "139\n",
      "141\n",
      "143\n",
      "145\n",
      "147\n",
      "149\n"
     ]
    }
   ],
   "source": [
    "for i in range(100,151):\n",
    "    if i%2!=0:\n",
    "        print(i)"
   ]
  },
  {
   "cell_type": "code",
   "execution_count": 26,
   "id": "f76e36ab",
   "metadata": {
    "collapsed": true
   },
   "outputs": [
    {
     "name": "stdout",
     "output_type": "stream",
     "text": [
      "100\n",
      "102\n",
      "104\n",
      "106\n",
      "108\n",
      "110\n",
      "112\n",
      "114\n",
      "116\n",
      "118\n",
      "120\n",
      "122\n",
      "124\n",
      "126\n",
      "128\n",
      "130\n",
      "132\n",
      "134\n",
      "136\n",
      "138\n",
      "140\n",
      "142\n",
      "144\n",
      "146\n",
      "148\n",
      "150\n"
     ]
    }
   ],
   "source": [
    "for i in range(100,151):\n",
    "    if i%2==0:\n",
    "        print(i)"
   ]
  },
  {
   "cell_type": "markdown",
   "id": "d5e23fd5",
   "metadata": {},
   "source": [
    "3. Get a input value from user and print the  corresponding table of that number."
   ]
  },
  {
   "cell_type": "code",
   "execution_count": 27,
   "id": "f57b757a",
   "metadata": {
    "collapsed": true
   },
   "outputs": [
    {
     "name": "stdout",
     "output_type": "stream",
     "text": [
      "Enter the number : 200\n",
      "200\n",
      "400\n",
      "600\n",
      "800\n",
      "1000\n",
      "1200\n",
      "1400\n",
      "1600\n",
      "1800\n",
      "2000\n",
      "2200\n",
      "2400\n",
      "2600\n",
      "2800\n",
      "3000\n",
      "3200\n",
      "3400\n",
      "3600\n",
      "3800\n",
      "4000\n"
     ]
    }
   ],
   "source": [
    "a = int(input(\"Enter the number : \"))\n",
    "\n",
    "for i in range(1,21):\n",
    "    print(i*a)"
   ]
  },
  {
   "cell_type": "markdown",
   "id": "04737cf9",
   "metadata": {},
   "source": [
    "Get two inputs from the user and check which is greater and print that number."
   ]
  },
  {
   "cell_type": "code",
   "execution_count": 28,
   "id": "62c39147",
   "metadata": {
    "collapsed": true
   },
   "outputs": [
    {
     "name": "stdout",
     "output_type": "stream",
     "text": [
      "Enter the first number : 20\n",
      "Enter the second number : 20\n",
      "The first number - 20 is equal to the second number - 20.\n"
     ]
    }
   ],
   "source": [
    "a = int(input(\"Enter the first number : \"))\n",
    "b = int(input(\"Enter the second number : \"))\n",
    "if a>b:\n",
    "    print(\"The first number - {} is greater than the second number - {}.\".format(a,b))\n",
    "elif b>a:\n",
    "    print(\"The second number - {} is greater than the first number - {}.\".format(b,a))\n",
    "else:\n",
    "    print(\"The first number - {} is equal to the second number - {}.\".format(a,b))"
   ]
  },
  {
   "cell_type": "markdown",
   "id": "caa4ec46",
   "metadata": {},
   "source": [
    " Get 3 inputs from the user - find the max and min value"
   ]
  },
  {
   "cell_type": "code",
   "execution_count": 29,
   "id": "5b45a116",
   "metadata": {
    "collapsed": true
   },
   "outputs": [
    {
     "name": "stdout",
     "output_type": "stream",
     "text": [
      "Enter the first number : 20\n",
      "Enter the second number : 30\n",
      "Enter the third number : 100\n",
      "The maximum value is : 100\n",
      "The minimum value is : 20\n"
     ]
    }
   ],
   "source": [
    "import numpy as np\n",
    "a = int(input(\"Enter the first number : \"))\n",
    "b = int(input(\"Enter the second number : \"))\n",
    "c = int(input(\"Enter the third number : \"))\n",
    "list = [a,b,c]\n",
    "max = np.max(list)\n",
    "min = np.min(list)\n",
    "print(\"The maximum value is :\",max)\n",
    "print(\"The minimum value is :\",min)"
   ]
  }
 ],
 "metadata": {
  "kernelspec": {
   "display_name": "Python 3 (ipykernel)",
   "language": "python",
   "name": "python3"
  },
  "language_info": {
   "codemirror_mode": {
    "name": "ipython",
    "version": 3
   },
   "file_extension": ".py",
   "mimetype": "text/x-python",
   "name": "python",
   "nbconvert_exporter": "python",
   "pygments_lexer": "ipython3",
   "version": "3.9.12"
  }
 },
 "nbformat": 4,
 "nbformat_minor": 5
}
