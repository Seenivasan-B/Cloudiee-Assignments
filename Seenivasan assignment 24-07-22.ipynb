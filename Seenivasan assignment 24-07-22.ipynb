{
 "cells": [
  {
   "cell_type": "markdown",
   "id": "e8769d01",
   "metadata": {},
   "source": [
    "# #Assignment 1"
   ]
  },
  {
   "cell_type": "markdown",
   "id": "bda53786",
   "metadata": {},
   "source": [
    "1. Write a python program to print first 100 natural numbers."
   ]
  },
  {
   "cell_type": "code",
   "execution_count": null,
   "id": "8e37e4e9",
   "metadata": {},
   "outputs": [],
   "source": [
    "for i in range(1,101):\n",
    "    print(i)\n",
    "    "
   ]
  },
  {
   "cell_type": "markdown",
   "id": "6e6ed4ff",
   "metadata": {},
   "source": [
    "2. Print odd and even numbers between 100-150"
   ]
  },
  {
   "cell_type": "code",
   "execution_count": null,
   "id": "2cec233b",
   "metadata": {},
   "outputs": [],
   "source": [
    "for i in range(100,151):\n",
    "    if i%2!=0:\n",
    "        print(i)"
   ]
  },
  {
   "cell_type": "code",
   "execution_count": null,
   "id": "f76e36ab",
   "metadata": {},
   "outputs": [],
   "source": [
    "for i in range(100,151):\n",
    "    if i%2==0:\n",
    "        print(i)"
   ]
  },
  {
   "cell_type": "markdown",
   "id": "d5e23fd5",
   "metadata": {},
   "source": [
    "3. Get a input value from user and print the  corresponding table of that number."
   ]
  },
  {
   "cell_type": "code",
   "execution_count": null,
   "id": "f57b757a",
   "metadata": {},
   "outputs": [],
   "source": [
    "a = int(input(\"Enter the number : \"))\n",
    "\n",
    "for i in range(1,21):\n",
    "    print(i*a)"
   ]
  },
  {
   "cell_type": "markdown",
   "id": "04737cf9",
   "metadata": {},
   "source": [
    "Get two inputs from the user and check which is greater and print that number."
   ]
  },
  {
   "cell_type": "code",
   "execution_count": null,
   "id": "62c39147",
   "metadata": {},
   "outputs": [],
   "source": [
    "a = int(input(\"Enter the first number : \"))\n",
    "b = int(input(\"Enter the second number : \"))\n",
    "if a>b:\n",
    "    print(\"The first number - {} is greater than the second number - {}.\".format(a,b))\n",
    "elif b>a:\n",
    "    print(\"The second number - {} is greater than the first number - {}.\".format(b,a))\n",
    "else:\n",
    "    print(\"The first number - {} is equal to the second number - {}.\".format(a,b))"
   ]
  },
  {
   "cell_type": "markdown",
   "id": "caa4ec46",
   "metadata": {},
   "source": [
    " Get 3 inputs from the user - find the max and min value"
   ]
  },
  {
   "cell_type": "code",
   "execution_count": null,
   "id": "5b45a116",
   "metadata": {},
   "outputs": [],
   "source": [
    "import numpy as np\n",
    "a = int(input(\"Enter the first number : \"))\n",
    "b = int(input(\"Enter the second number : \"))\n",
    "c = int(input(\"Enter the third number : \"))\n",
    "list = [a,b,c]\n",
    "max = np.max(list)\n",
    "min = np.min(list)\n",
    "print(\"The maximum value is :\",max)\n",
    "print(\"The minimum value is :\",min)"
   ]
  }
 ],
 "metadata": {
  "kernelspec": {
   "display_name": "Python 3 (ipykernel)",
   "language": "python",
   "name": "python3"
  },
  "language_info": {
   "codemirror_mode": {
    "name": "ipython",
    "version": 3
   },
   "file_extension": ".py",
   "mimetype": "text/x-python",
   "name": "python",
   "nbconvert_exporter": "python",
   "pygments_lexer": "ipython3",
   "version": "3.9.12"
  }
 },
 "nbformat": 4,
 "nbformat_minor": 5
}
