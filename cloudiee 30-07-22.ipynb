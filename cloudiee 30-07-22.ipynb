{
 "cells": [
  {
   "cell_type": "code",
   "execution_count": null,
   "id": "962d4161",
   "metadata": {},
   "outputs": [],
   "source": [
    "for i in range(0,6):\n",
    "    for j in range(0,4):\n",
    "        print(\"*\", end = ' ')\n",
    "    print(\"*\")"
   ]
  },
  {
   "cell_type": "code",
   "execution_count": null,
   "id": "e5738480",
   "metadata": {},
   "outputs": [],
   "source": [
    "print(\" *** \")\n",
    "print(\"*   *\")\n",
    "print(\"*   *\")\n",
    "print(\"*****\")\n",
    "print(\"*   *\")\n",
    "print(\"*   *\")"
   ]
  },
  {
   "cell_type": "code",
   "execution_count": null,
   "id": "07bc8c8b",
   "metadata": {},
   "outputs": [],
   "source": [
    "def opp(*b):\n",
    "    for i in b:\n",
    "        if i%2==0:\n",
    "            print(i)\n",
    "        \n",
    "opp(1,2,3,4,5,6)"
   ]
  },
  {
   "cell_type": "code",
   "execution_count": 1,
   "id": "98efad3d",
   "metadata": {},
   "outputs": [
    {
     "name": "stdout",
     "output_type": "stream",
     "text": [
      "[-56, -2, 3, 12, 43, 43, 324, 2342, 3452, 32432, 42341]\n"
     ]
    }
   ],
   "source": [
    "list = [-2,12,43,-56,324,3452,42341,43,32432,2342,3]\n",
    "list_ascending = []\n",
    "\n",
    "while list:\n",
    "    min = list[0]   \n",
    "    for x in list: \n",
    "        if x < min:\n",
    "            min = x\n",
    "    list_ascending.append(min)\n",
    "    list.remove(min)    \n",
    "\n",
    "print (list_ascending)"
   ]
  },
  {
   "cell_type": "code",
   "execution_count": 3,
   "id": "1e291fdd",
   "metadata": {},
   "outputs": [
    {
     "name": "stdout",
     "output_type": "stream",
     "text": [
      "[42341, 32432, 3452, 2342, 324, 43, 43, 12, 3, -2, -56]\n"
     ]
    }
   ],
   "source": [
    "list = [-2,12,43,-56,324,3452,42341,43,32432,2342,3]\n",
    "list_descending = []\n",
    "\n",
    "while list:\n",
    "    max = list[0]   \n",
    "    for x in list: \n",
    "        if x > max:\n",
    "            max = x\n",
    "    list_descending.append(max)\n",
    "    list.remove(max)    \n",
    "\n",
    "print (list_descending)"
   ]
  },
  {
   "cell_type": "code",
   "execution_count": null,
   "id": "6f915c82",
   "metadata": {},
   "outputs": [],
   "source": []
  }
 ],
 "metadata": {
  "kernelspec": {
   "display_name": "Python 3 (ipykernel)",
   "language": "python",
   "name": "python3"
  },
  "language_info": {
   "codemirror_mode": {
    "name": "ipython",
    "version": 3
   },
   "file_extension": ".py",
   "mimetype": "text/x-python",
   "name": "python",
   "nbconvert_exporter": "python",
   "pygments_lexer": "ipython3",
   "version": "3.9.12"
  }
 },
 "nbformat": 4,
 "nbformat_minor": 5
}
