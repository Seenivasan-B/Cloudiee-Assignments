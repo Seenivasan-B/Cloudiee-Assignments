{
 "cells": [
  {
   "cell_type": "markdown",
   "id": "2c5985d0",
   "metadata": {},
   "source": [
    "# Assignment 2:"
   ]
  },
  {
   "cell_type": "markdown",
   "id": "9475599f",
   "metadata": {},
   "source": [
    "Write a program to check the given number is prime or not."
   ]
  },
  {
   "cell_type": "code",
   "execution_count": null,
   "id": "701f08ee",
   "metadata": {},
   "outputs": [],
   "source": [
    "n = int(input(\"Enter the number you want to check: \"))\n",
    "for i in range(2,n,1):\n",
    "    if n%i == 0:\n",
    "        print(\"Its not a prime number\")\n",
    "        break\n",
    "else:\n",
    "    print(\"Its a prime number\")"
   ]
  },
  {
   "cell_type": "markdown",
   "id": "dc703848",
   "metadata": {},
   "source": [
    "Get the input from user and print the factorial of that number."
   ]
  },
  {
   "cell_type": "code",
   "execution_count": null,
   "id": "bc2689a7",
   "metadata": {},
   "outputs": [],
   "source": [
    "n = int(input(\"Enter the number that you want to find the factorial : \"))\n",
    "l = []\n",
    "for i in range(1,n+1):\n",
    "    l.append(i)\n",
    "#print(l)\n",
    "import numpy as np\n",
    "fact = np.prod(l)\n",
    "print(\"The factorial of {} is {}\".format(n,fact))"
   ]
  },
  {
   "cell_type": "markdown",
   "id": "9f4654e7",
   "metadata": {},
   "source": [
    "Fibonacci"
   ]
  },
  {
   "cell_type": "code",
   "execution_count": null,
   "id": "c627f261",
   "metadata": {},
   "outputs": [],
   "source": [
    "n = int(input(\"Enter your input : \"))\n",
    "a = 0\n",
    "b = 1\n",
    "print(a)\n",
    "print(b)\n",
    "for i in range(2,n):\n",
    "    c = a+b\n",
    "    a=b\n",
    "    b=c\n",
    "    print(c)"
   ]
  },
  {
   "cell_type": "markdown",
   "id": "bcfd95a5",
   "metadata": {},
   "source": [
    "Armstrong number"
   ]
  },
  {
   "cell_type": "code",
   "execution_count": null,
   "id": "6b28d552",
   "metadata": {},
   "outputs": [],
   "source": [
    "n = input(\"Enter your number : \")\n",
    "print(n)\n",
    "\n",
    "length = int(len(n))\n",
    "#print(length)\n",
    "\n",
    "sum = 0\n",
    "list = []\n",
    "for i in n:\n",
    "    list.append(int(i))\n",
    "#print(list)\n",
    "\n",
    "for i in list:\n",
    "    sum = sum + i**length\n",
    "#print(sum)\n",
    "\n",
    "\n",
    "if sum == int(n):\n",
    "    print(\"It's an armstrong number\")\n",
    "else:\n",
    "    print(\"It's not an armstrong number\")\n"
   ]
  }
 ],
 "metadata": {
  "kernelspec": {
   "display_name": "Python 3 (ipykernel)",
   "language": "python",
   "name": "python3"
  },
  "language_info": {
   "codemirror_mode": {
    "name": "ipython",
    "version": 3
   },
   "file_extension": ".py",
   "mimetype": "text/x-python",
   "name": "python",
   "nbconvert_exporter": "python",
   "pygments_lexer": "ipython3",
   "version": "3.9.12"
  }
 },
 "nbformat": 4,
 "nbformat_minor": 5
}
