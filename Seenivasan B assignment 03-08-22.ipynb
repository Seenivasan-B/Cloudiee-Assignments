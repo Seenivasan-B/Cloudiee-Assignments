{
 "cells": [
  {
   "cell_type": "markdown",
   "id": "c6743aec",
   "metadata": {},
   "source": [
    "# Assignment"
   ]
  },
  {
   "cell_type": "markdown",
   "id": "a949a18f",
   "metadata": {},
   "source": [
    "## Take a list and print it in ascending and descending order without using any functions like sort, min, Max"
   ]
  },
  {
   "cell_type": "code",
   "execution_count": 3,
   "id": "0f498e6c",
   "metadata": {},
   "outputs": [
    {
     "name": "stdout",
     "output_type": "stream",
     "text": [
      "The ascending order is [-56, -2, 3, 12, 43, 43, 324, 2342, 3452, 32432, 42341]\n"
     ]
    }
   ],
   "source": [
    "list = [-2,12,43,-56,324,3452,42341,43,32432,2342,3]\n",
    "list_ascending = []\n",
    "\n",
    "while list:\n",
    "    min = list[0]   \n",
    "    for x in list: \n",
    "        if x < min:\n",
    "            min = x\n",
    "    list_ascending.append(min)\n",
    "    list.remove(min)    \n",
    "\n",
    "print (\"The ascending order is\",list_ascending)"
   ]
  },
  {
   "cell_type": "code",
   "execution_count": 4,
   "id": "27b12e33",
   "metadata": {},
   "outputs": [
    {
     "name": "stdout",
     "output_type": "stream",
     "text": [
      "The descending order is  [42341, 32432, 3452, 2342, 324, 43, 43, 12, 3, -2, -56]\n"
     ]
    }
   ],
   "source": [
    "list = [-2,12,43,-56,324,3452,42341,43,32432,2342,3]\n",
    "list_descending = []\n",
    "\n",
    "while list:\n",
    "    max = list[0]   \n",
    "    for x in list: \n",
    "        if x > max:\n",
    "            max = x\n",
    "    list_descending.append(max)\n",
    "    list.remove(max)    \n",
    "\n",
    "print (\"The descending order is \",list_descending)"
   ]
  }
 ],
 "metadata": {
  "kernelspec": {
   "display_name": "Python 3 (ipykernel)",
   "language": "python",
   "name": "python3"
  },
  "language_info": {
   "codemirror_mode": {
    "name": "ipython",
    "version": 3
   },
   "file_extension": ".py",
   "mimetype": "text/x-python",
   "name": "python",
   "nbconvert_exporter": "python",
   "pygments_lexer": "ipython3",
   "version": "3.9.12"
  }
 },
 "nbformat": 4,
 "nbformat_minor": 5
}
