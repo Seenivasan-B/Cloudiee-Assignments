{
 "cells": [
  {
   "cell_type": "code",
   "execution_count": null,
   "id": "db745df8",
   "metadata": {},
   "outputs": [],
   "source": [
    "for i in range(1,5):\n",
    " for j in range(i):\n",
    "        print(\"#\", end=' ')\n",
    " print('')"
   ]
  },
  {
   "cell_type": "code",
   "execution_count": null,
   "id": "43b1cd4e",
   "metadata": {},
   "outputs": [],
   "source": [
    "for i in range(4,0,-1):\n",
    " for j in range(i):\n",
    "        print(\"#\", end=' ')\n",
    " print('')"
   ]
  },
  {
   "cell_type": "code",
   "execution_count": null,
   "id": "a632adcf",
   "metadata": {},
   "outputs": [],
   "source": [
    "for i in range(0,4):\n",
    "    for j in range(0,4):\n",
    "        print(\"#\", end = ' ')\n",
    "    print(\"#\")"
   ]
  },
  {
   "cell_type": "code",
   "execution_count": null,
   "id": "70c33f45",
   "metadata": {},
   "outputs": [],
   "source": [
    "for i in range(5,0,-1):\n",
    "    for j in range(i):\n",
    "        print(i,end = ' ')\n",
    "    print()\n",
    "   "
   ]
  },
  {
   "cell_type": "code",
   "execution_count": null,
   "id": "211306a5",
   "metadata": {},
   "outputs": [],
   "source": [
    "for i in range(1,6):\n",
    "    num = 0\n",
    "    for j in range(i,0,-1):\n",
    "        num = num+1\n",
    "        print(num,end='')\n",
    "    print()"
   ]
  },
  {
   "cell_type": "code",
   "execution_count": null,
   "id": "63bf4e06",
   "metadata": {},
   "outputs": [],
   "source": [
    "for i in range(5,0,-1):\n",
    "    num = 0\n",
    "    for j in range(i,0,-1):\n",
    "        num = num+1\n",
    "        print(num,end='')\n",
    "    print()"
   ]
  },
  {
   "cell_type": "code",
   "execution_count": null,
   "id": "753d2e55",
   "metadata": {},
   "outputs": [],
   "source": [
    "for i in range(4,0,-1):\n",
    "    for j in range(i):\n",
    "        print(chr(j + 65), end=\"\")\n",
    "    print()"
   ]
  },
  {
   "cell_type": "code",
   "execution_count": null,
   "id": "9924f9da",
   "metadata": {},
   "outputs": [],
   "source": [
    "for i in range(0,5):\n",
    "    for j in range(i):\n",
    "        print(chr(j + 65), end=\"\")\n",
    "    print()"
   ]
  },
  {
   "cell_type": "code",
   "execution_count": null,
   "id": "8179a99b",
   "metadata": {},
   "outputs": [],
   "source": []
  }
 ],
 "metadata": {
  "kernelspec": {
   "display_name": "Python 3 (ipykernel)",
   "language": "python",
   "name": "python3"
  },
  "language_info": {
   "codemirror_mode": {
    "name": "ipython",
    "version": 3
   },
   "file_extension": ".py",
   "mimetype": "text/x-python",
   "name": "python",
   "nbconvert_exporter": "python",
   "pygments_lexer": "ipython3",
   "version": "3.9.12"
  }
 },
 "nbformat": 4,
 "nbformat_minor": 5
}
